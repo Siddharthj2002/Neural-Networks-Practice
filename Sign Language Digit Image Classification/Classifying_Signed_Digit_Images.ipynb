{
  "nbformat": 4,
  "nbformat_minor": 0,
  "metadata": {
    "colab": {
      "provenance": [],
      "toc_visible": true,
      "gpuType": "T4"
    },
    "kernelspec": {
      "name": "python3",
      "display_name": "Python 3"
    },
    "language_info": {
      "name": "python"
    },
    "accelerator": "GPU"
  },
  "cells": [
    {
      "cell_type": "markdown",
      "source": [
        "# Sign Language Digit Recognition with Deep Learning\n",
        "\n",
        "Preparing and processing our own custom image data set of sign language digits. Later use these images to train our fine-tuned MobileNet model."
      ],
      "metadata": {
        "id": "mhxSS4Zog197"
      }
    },
    {
      "cell_type": "code",
      "source": [
        "import numpy as np\n",
        "import tensorflow as tf\n",
        "from tensorflow import keras\n",
        "from keras.layers import Dense, Activation\n",
        "from keras.optimizers import Adam\n",
        "from keras.metrics import categorical_crossentropy\n",
        "from keras.preprocessing.image import ImageDataGenerator\n",
        "from keras.preprocessing import image\n",
        "from keras.models import Model\n",
        "from keras.applications import imagenet_utils\n",
        "from sklearn.metrics import confusion_matrix\n",
        "import itertools\n",
        "import os\n",
        "import shutil\n",
        "import random\n",
        "import matplotlib.pyplot as plt"
      ],
      "metadata": {
        "id": "UAVjhP8MlUzK"
      },
      "execution_count": 1,
      "outputs": []
    },
    {
      "cell_type": "code",
      "source": [
        "physical_devices = tf.config.experimental.list_physical_devices('GPU')\n",
        "print(\"Num GPUs Available: \", len(physical_devices))\n",
        "tf.config.experimental.set_memory_growth(physical_devices[0], True)"
      ],
      "metadata": {
        "colab": {
          "base_uri": "https://localhost:8080/",
          "height": 0
        },
        "id": "OqRt3ZjLnyGC",
        "outputId": "138538f8-f89a-4491-db0d-61a0f3f1fa38"
      },
      "execution_count": 2,
      "outputs": [
        {
          "output_type": "stream",
          "name": "stdout",
          "text": [
            "Num GPUs Available:  1\n"
          ]
        }
      ]
    },
    {
      "cell_type": "markdown",
      "source": [
        "### Obtaining the Data\n",
        "\n",
        "Dataset: https://github.com/ardamavi/Sign-Language-Digits-Dataset\n",
        "\n",
        "\n",
        "\n",
        "\n",
        "- 10 classes (digits 0-9)\n",
        "- Class data:\n",
        "  - class 0: 205 images\n",
        "  - class 1: 206 images\n",
        "  - class 2: 206 images\n",
        "  - class 3: 206 images\n",
        "  - class 4: 207 images\n",
        "  - class 5: 207 images\n",
        "  - class 6: 207 images\n",
        "  - class 7: 206 images\n",
        "  - class 8: 208 images\n",
        "  - class 9: 204 images\n",
        "\n",
        "  - Extract sub-directories labeled 0 through 9 and nest directories directly underneath Sign-Language-Digits-Dataset directory. Directory structure should look like this:\n",
        "\n",
        "        /Sign-Language-Digits-Dataset/\n",
        "        。 0/\n",
        "        。 1/\n",
        "        。 2/\n",
        "        ....\n",
        "        。 9/"
      ],
      "metadata": {
        "id": "92w7-T6NhDOZ"
      }
    },
    {
      "cell_type": "markdown",
      "source": [
        "### Organizing the Data"
      ],
      "metadata": {
        "id": "Uxb58cw8qk0R"
      }
    },
    {
      "cell_type": "code",
      "source": [
        "# # Organize data into train, valid, test dirs\n",
        "# os.chdir('/content/drive/MyDrive/Neural Networks/Sign Language Digit Recognition/Sign-Language-Digits-Dataset')\n",
        "# if os.path.isdir('train/0/') is False:\n",
        "#     os.mkdir('train')\n",
        "#     os.mkdir('valid')\n",
        "#     os.mkdir('test')\n",
        "\n",
        "#     for i in range(0, 10): # Iterating over all the directories from 0 - 9\n",
        "#         shutil.move(f'{i}', 'train') # Moving each of these directories into our train directory\n",
        "\n",
        "#         # making the valid and test directories for each digit\n",
        "#         os.mkdir(f'valid/{i}')\n",
        "#         os.mkdir(f'test/{i}')\n",
        "\n",
        "#         # Randomly chosing 30 samples from the training set and adding them to the validation set, for each digit\n",
        "#         valid_samples = random.sample(os.listdir(f'train/{i}'), 30)\n",
        "#         for j in valid_samples:\n",
        "#             shutil.move(f'train/{i}/{j}', f'valid/{i}')\n",
        "\n",
        "#         # Randomly chosing 5 samples from the training set and adding them to the test set, for each digit\n",
        "#         test_samples = random.sample(os.listdir(f'train/{i}'), 5)\n",
        "#         for k in test_samples:\n",
        "#             shutil.move(f'train/{i}/{k}', f'test/{i}')\n",
        "# os.chdir('../..')"
      ],
      "metadata": {
        "id": "Prs6KhTnhGIB"
      },
      "execution_count": 3,
      "outputs": []
    },
    {
      "cell_type": "markdown",
      "source": [
        "### Pre-processing the Data"
      ],
      "metadata": {
        "id": "239vxNOjqndu"
      }
    },
    {
      "cell_type": "markdown",
      "source": [
        "A preprocessing_function parameter is provided to the ImageDataGenerator.\n",
        "- It is set to tf.keras.applications.mobilenet.preprocess_input.\n",
        "- This function performs MobileNet-specific preprocessing on images obtained from flow_from_directory()."
      ],
      "metadata": {
        "id": "5VmNVSWNq8H9"
      }
    },
    {
      "cell_type": "code",
      "execution_count": 4,
      "metadata": {
        "colab": {
          "base_uri": "https://localhost:8080/",
          "height": 0
        },
        "id": "QOs0Zi_nRENK",
        "outputId": "6f2d5bce-35a5-4117-b166-a1e666e52773"
      },
      "outputs": [
        {
          "output_type": "stream",
          "name": "stdout",
          "text": [
            "Found 1712 images belonging to 10 classes.\n",
            "Found 300 images belonging to 10 classes.\n",
            "Found 50 images belonging to 10 classes.\n"
          ]
        }
      ],
      "source": [
        "train_path = '/content/drive/MyDrive/Neural Networks/Sign Language Digit Recognition/Sign-Language-Digits-Dataset/train'\n",
        "valid_path = '/content/drive/MyDrive/Neural Networks/Sign Language Digit Recognition/Sign-Language-Digits-Dataset/valid'\n",
        "test_path = '/content/drive/MyDrive/Neural Networks/Sign Language Digit Recognition/Sign-Language-Digits-Dataset/test'\n",
        "\n",
        "train_batches = ImageDataGenerator(preprocessing_function=tf.keras.applications.mobilenet.preprocess_input).flow_from_directory(\n",
        "    directory=train_path, target_size=(224,224), batch_size=10)\n",
        "valid_batches = ImageDataGenerator(preprocessing_function=tf.keras.applications.mobilenet.preprocess_input).flow_from_directory(\n",
        "    directory=valid_path, target_size=(224,224), batch_size=10)\n",
        "test_batches = ImageDataGenerator(preprocessing_function=tf.keras.applications.mobilenet.preprocess_input).flow_from_directory(\n",
        "    directory=test_path, target_size=(224,224), batch_size=10, shuffle=False)"
      ]
    },
    {
      "cell_type": "markdown",
      "source": [
        "### Building the Model"
      ],
      "metadata": {
        "id": "7YcP0AQKz72i"
      }
    },
    {
      "cell_type": "code",
      "source": [
        "mobile_model = tf.keras.applications.mobilenet.MobileNet()"
      ],
      "metadata": {
        "colab": {
          "base_uri": "https://localhost:8080/",
          "height": 0
        },
        "id": "0bbv94JxqVc1",
        "outputId": "47b9fcee-1ad9-4d87-b315-52ef1980970f"
      },
      "execution_count": 5,
      "outputs": [
        {
          "output_type": "stream",
          "name": "stdout",
          "text": [
            "Downloading data from https://storage.googleapis.com/tensorflow/keras-applications/mobilenet/mobilenet_1_0_224_tf.h5\n",
            "17225924/17225924 [==============================] - 0s 0us/step\n"
          ]
        }
      ]
    },
    {
      "cell_type": "code",
      "source": [
        "mobile_model.summary()"
      ],
      "metadata": {
        "id": "MpouuYGrrQqa"
      },
      "execution_count": null,
      "outputs": []
    },
    {
      "cell_type": "code",
      "source": [
        "# Removing the last 5 layers and use the remaining layers to build our model\n",
        "x = mobile_model.layers[-5].output"
      ],
      "metadata": {
        "id": "IuA5TSYWrSIu"
      },
      "execution_count": 20,
      "outputs": []
    },
    {
      "cell_type": "code",
      "source": [
        "x = tf.keras.layers.Reshape(target_shape=(1024,))(x)\n",
        "output = Dense(units=10, activation='softmax')(x)"
      ],
      "metadata": {
        "id": "sykjjdE9yfdQ"
      },
      "execution_count": 21,
      "outputs": []
    },
    {
      "cell_type": "code",
      "source": [
        "model = Model(inputs=mobile_model.input, outputs=output)"
      ],
      "metadata": {
        "id": "TkZdO6SZymu3"
      },
      "execution_count": 22,
      "outputs": []
    },
    {
      "cell_type": "code",
      "source": [
        "for layer in model.layers[:-22]:\n",
        "    layer.trainable = False"
      ],
      "metadata": {
        "id": "TpAf4X0Pznyp"
      },
      "execution_count": 24,
      "outputs": []
    },
    {
      "cell_type": "code",
      "source": [
        "model.summary()"
      ],
      "metadata": {
        "id": "Y0o44yqRy8Zg"
      },
      "execution_count": null,
      "outputs": []
    },
    {
      "cell_type": "markdown",
      "source": [
        "### Train the Model"
      ],
      "metadata": {
        "id": "RveF-rlCz2wl"
      }
    },
    {
      "cell_type": "code",
      "source": [
        "model.compile(optimizer=Adam(learning_rate=0.0001), loss='categorical_crossentropy', metrics=['accuracy'])"
      ],
      "metadata": {
        "id": "cAwtoF1Ey9z1"
      },
      "execution_count": 26,
      "outputs": []
    },
    {
      "cell_type": "code",
      "source": [
        "# Run more epochs ~30, for better results\n",
        "model.fit(x=train_batches,\n",
        "            steps_per_epoch=len(train_batches),\n",
        "            validation_data=valid_batches,\n",
        "            validation_steps=len(valid_batches),\n",
        "            epochs=10,\n",
        "            verbose=2\n",
        ")"
      ],
      "metadata": {
        "colab": {
          "base_uri": "https://localhost:8080/",
          "height": 0
        },
        "id": "FeswB3D3ztlh",
        "outputId": "27001431-8fc2-4713-d47f-ffd358327cbf"
      },
      "execution_count": 27,
      "outputs": [
        {
          "output_type": "stream",
          "name": "stdout",
          "text": [
            "Epoch 1/10\n",
            "172/172 - 370s - loss: 0.5897 - accuracy: 0.8265 - val_loss: 0.2355 - val_accuracy: 0.9400 - 370s/epoch - 2s/step\n",
            "Epoch 2/10\n",
            "172/172 - 7s - loss: 0.1118 - accuracy: 0.9825 - val_loss: 0.1372 - val_accuracy: 0.9700 - 7s/epoch - 40ms/step\n",
            "Epoch 3/10\n",
            "172/172 - 5s - loss: 0.0567 - accuracy: 0.9936 - val_loss: 0.0869 - val_accuracy: 0.9767 - 5s/epoch - 31ms/step\n",
            "Epoch 4/10\n",
            "172/172 - 6s - loss: 0.0331 - accuracy: 0.9977 - val_loss: 0.0708 - val_accuracy: 0.9800 - 6s/epoch - 35ms/step\n",
            "Epoch 5/10\n",
            "172/172 - 5s - loss: 0.0230 - accuracy: 0.9971 - val_loss: 0.0535 - val_accuracy: 0.9800 - 5s/epoch - 31ms/step\n",
            "Epoch 6/10\n",
            "172/172 - 7s - loss: 0.0234 - accuracy: 0.9947 - val_loss: 0.1273 - val_accuracy: 0.9467 - 7s/epoch - 40ms/step\n",
            "Epoch 7/10\n",
            "172/172 - 8s - loss: 0.0147 - accuracy: 1.0000 - val_loss: 0.0461 - val_accuracy: 0.9833 - 8s/epoch - 47ms/step\n",
            "Epoch 8/10\n",
            "172/172 - 6s - loss: 0.0112 - accuracy: 0.9994 - val_loss: 0.0597 - val_accuracy: 0.9833 - 6s/epoch - 35ms/step\n",
            "Epoch 9/10\n",
            "172/172 - 6s - loss: 0.0079 - accuracy: 0.9994 - val_loss: 0.0434 - val_accuracy: 0.9867 - 6s/epoch - 34ms/step\n",
            "Epoch 10/10\n",
            "172/172 - 6s - loss: 0.0061 - accuracy: 1.0000 - val_loss: 0.0508 - val_accuracy: 0.9833 - 6s/epoch - 34ms/step\n"
          ]
        },
        {
          "output_type": "execute_result",
          "data": {
            "text/plain": [
              "<keras.src.callbacks.History at 0x7a8840341f00>"
            ]
          },
          "metadata": {},
          "execution_count": 27
        }
      ]
    },
    {
      "cell_type": "markdown",
      "source": [
        "### Predicting sign language digits / Testing"
      ],
      "metadata": {
        "id": "WKs6mdmA1HA5"
      }
    },
    {
      "cell_type": "code",
      "source": [
        "test_labels = test_batches.classes"
      ],
      "metadata": {
        "id": "0KGO_qSv0Eew"
      },
      "execution_count": 28,
      "outputs": []
    },
    {
      "cell_type": "code",
      "source": [
        "predictions = model.predict(x=test_batches, steps=len(test_batches), verbose=0)"
      ],
      "metadata": {
        "id": "beQbbp3H1OGY"
      },
      "execution_count": 29,
      "outputs": []
    },
    {
      "cell_type": "code",
      "source": [
        "cm = confusion_matrix(y_true=test_labels, y_pred=predictions.argmax(axis=1))"
      ],
      "metadata": {
        "id": "a4cQ87BH1PRf"
      },
      "execution_count": 30,
      "outputs": []
    },
    {
      "cell_type": "code",
      "source": [
        "def plot_confusion_matrix(cm, classes,\n",
        "                          normalize=False,\n",
        "                          title='Confusion matrix',\n",
        "                          cmap=plt.cm.Blues):\n",
        "    \"\"\"\n",
        "    This function prints and plots the confusion matrix.\n",
        "    Normalization can be applied by setting `normalize=True`.\n",
        "    \"\"\"\n",
        "    plt.imshow(cm, interpolation='nearest', cmap=cmap)\n",
        "    plt.title(title)\n",
        "    plt.colorbar()\n",
        "    tick_marks = np.arange(len(classes))\n",
        "    plt.xticks(tick_marks, classes, rotation=45)\n",
        "    plt.yticks(tick_marks, classes)\n",
        "\n",
        "    if normalize:\n",
        "        cm = cm.astype('float') / cm.sum(axis=1)[:, np.newaxis]\n",
        "        print(\"Normalized confusion matrix\")\n",
        "    else:\n",
        "        print('Confusion matrix, without normalization')\n",
        "\n",
        "    print(cm)\n",
        "\n",
        "    thresh = cm.max() / 2.\n",
        "    for i, j in itertools.product(range(cm.shape[0]), range(cm.shape[1])):\n",
        "        plt.text(j, i, cm[i, j],\n",
        "            horizontalalignment=\"center\",\n",
        "            color=\"white\" if cm[i, j] > thresh else \"black\")\n",
        "\n",
        "    plt.tight_layout()\n",
        "    plt.ylabel('True label')\n",
        "    plt.xlabel('Predicted label')"
      ],
      "metadata": {
        "id": "UsVWIVOU1Rr2"
      },
      "execution_count": 31,
      "outputs": []
    },
    {
      "cell_type": "code",
      "source": [
        "test_batches.class_indices"
      ],
      "metadata": {
        "colab": {
          "base_uri": "https://localhost:8080/",
          "height": 0
        },
        "id": "9gK5lXd71Vjb",
        "outputId": "b7327ba3-fc10-4919-bd5f-0e294bb49cf4"
      },
      "execution_count": 32,
      "outputs": [
        {
          "output_type": "execute_result",
          "data": {
            "text/plain": [
              "{'0': 0,\n",
              " '1': 1,\n",
              " '2': 2,\n",
              " '3': 3,\n",
              " '4': 4,\n",
              " '5': 5,\n",
              " '6': 6,\n",
              " '7': 7,\n",
              " '8': 8,\n",
              " '9': 9}"
            ]
          },
          "metadata": {},
          "execution_count": 32
        }
      ]
    },
    {
      "cell_type": "code",
      "source": [
        "cm_plot_labels = ['0','1','2','3','4','5','6','7','8','9']\n",
        "plot_confusion_matrix(cm=cm, classes=cm_plot_labels, title='Confusion Matrix')"
      ],
      "metadata": {
        "colab": {
          "base_uri": "https://localhost:8080/",
          "height": 702
        },
        "id": "33TUGXVI1XaY",
        "outputId": "809dd475-d2b3-4db2-96e9-eab6486785c0"
      },
      "execution_count": 33,
      "outputs": [
        {
          "output_type": "stream",
          "name": "stdout",
          "text": [
            "Confusion matrix, without normalization\n",
            "[[5 0 0 0 0 0 0 0 0 0]\n",
            " [0 5 0 0 0 0 0 0 0 0]\n",
            " [0 0 5 0 0 0 0 0 0 0]\n",
            " [0 0 0 5 0 0 0 0 0 0]\n",
            " [0 0 0 0 5 0 0 0 0 0]\n",
            " [0 0 0 0 0 5 0 0 0 0]\n",
            " [0 0 0 0 0 0 5 0 0 0]\n",
            " [0 0 0 0 0 0 0 5 0 0]\n",
            " [0 0 0 0 0 0 0 0 5 0]\n",
            " [0 0 0 0 0 0 0 0 0 5]]\n"
          ]
        },
        {
          "output_type": "display_data",
          "data": {
            "text/plain": [
              "<Figure size 640x480 with 2 Axes>"
            ],
            "image/png": "[encoded data removed]"
          },
          "metadata": {}
        }
      ]
    }
  ]
}