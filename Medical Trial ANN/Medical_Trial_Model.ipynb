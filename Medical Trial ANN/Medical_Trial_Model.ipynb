{
  "nbformat": 4,
  "nbformat_minor": 0,
  "metadata": {
    "colab": {
      "provenance": [],
      "gpuType": "T4"
    },
    "kernelspec": {
      "name": "python3",
      "display_name": "Python 3"
    },
    "language_info": {
      "name": "python"
    },
    "accelerator": "GPU"
  },
  "cells": [
    {
      "cell_type": "code",
      "execution_count": 2,
      "metadata": {
        "id": "snVXLD8kSRNX"
      },
      "outputs": [],
      "source": [
        "import numpy as np\n",
        "from random import randint\n",
        "from sklearn.utils import shuffle\n",
        "from sklearn.preprocessing import MinMaxScaler"
      ]
    },
    {
      "cell_type": "code",
      "source": [
        "train_labels = []\n",
        "train_samples = []\n",
        "\n",
        "# If we were to train a model to do sentiment analysis on headlines from a media source, for example,\n",
        "# the corresponding label for each sample headline from the media source could be “positive” or “negative.”\n",
        "\n",
        "# If we were training a model on images of cats and dogs, then the label for each of the images would\n",
        "# either be “cat” or “dog.”"
      ],
      "metadata": {
        "id": "5tXEcWfbWoc7"
      },
      "execution_count": 3,
      "outputs": []
    },
    {
      "cell_type": "markdown",
      "source": [
        "Let's suppose that an experimental drug was tested on individuals ranging from age 13 to 100 in a clinical trial. The trial had 2100 participants. Half of the participants were under 65 years old, and the other half was 65 years of age or older.\n",
        "\n",
        "The trial showed that around 95% of patients 65 or older experienced side effects from the drug, and around 95% of patients under 65 experienced no side effects, generally showing that elderly individuals were more likely to experience side effects.\n",
        "\n",
        "Ultimately, we want to build a model to tell us whether or not a patient will experience side effects solely based on the patient's age. The judgement of the model will be based on the training data."
      ],
      "metadata": {
        "id": "x62MI0w7XRZS"
      }
    },
    {
      "cell_type": "code",
      "source": [
        "# Creating a sample dataset according to the example story above\n",
        "\n",
        "for i in range(50):\n",
        "    # The ~5% of younger individuals who did experience side effects\n",
        "    random_younger = randint(13,64)\n",
        "    train_samples.append(random_younger)\n",
        "    train_labels.append(1)\n",
        "\n",
        "    # The ~5% of older individuals who did not experience side effects\n",
        "    random_older = randint(65,100)\n",
        "    train_samples.append(random_older)\n",
        "    train_labels.append(0)\n",
        "\n",
        "for i in range(1000):\n",
        "    # The ~95% of younger individuals who did not experience side effects\n",
        "    random_younger = randint(13,64)\n",
        "    train_samples.append(random_younger)\n",
        "    train_labels.append(0)\n",
        "\n",
        "    # The ~95% of older individuals who did experience side effects\n",
        "    random_older = randint(65,100)\n",
        "    train_samples.append(random_older)\n",
        "    train_labels.append(1)"
      ],
      "metadata": {
        "id": "bFVqAxXGXG_0"
      },
      "execution_count": 4,
      "outputs": []
    },
    {
      "cell_type": "code",
      "source": [
        "for train_sample, train_label in zip(train_samples, train_labels):\n",
        "    print(f\"train_samples: {train_sample}, train_labels: {train_label}\")"
      ],
      "metadata": {
        "id": "V3GsVmSLXa7K"
      },
      "execution_count": null,
      "outputs": []
    },
    {
      "cell_type": "code",
      "source": [
        "# Converting the lists to np arrays and shuffling them to get rid of any orders imposed\n",
        "\n",
        "train_labels = np.array(train_labels)\n",
        "train_samples = np.array(train_samples)\n",
        "train_labels, train_samples = shuffle(train_labels, train_samples)"
      ],
      "metadata": {
        "id": "fEJqRWEpZUte"
      },
      "execution_count": 6,
      "outputs": []
    },
    {
      "cell_type": "code",
      "source": [
        "# Scaling data from 13-100 to 0 to 1 for simplicity\n",
        "\n",
        "scaler = MinMaxScaler(feature_range=(0,1))\n",
        "scaled_train_samples = scaler.fit_transform(train_samples.reshape(-1,1))"
      ],
      "metadata": {
        "id": "wPgCvHiRbDEc"
      },
      "execution_count": 7,
      "outputs": []
    },
    {
      "cell_type": "code",
      "source": [
        "for train_sample, train_label in zip(scaled_train_samples, train_labels):\n",
        "    print(f\"train_samples: {train_sample}, train_labels: {train_label}\")"
      ],
      "metadata": {
        "id": "Bo7hvjFQdDBr"
      },
      "execution_count": null,
      "outputs": []
    },
    {
      "cell_type": "code",
      "source": [
        "import tensorflow as tf\n",
        "from tensorflow import keras\n",
        "from keras.models import Sequential\n",
        "from keras.layers import Activation, Dense\n",
        "from keras.optimizers import Adam\n",
        "from keras.metrics import categorical_crossentropy"
      ],
      "metadata": {
        "id": "jdCSto3qddG-"
      },
      "execution_count": 9,
      "outputs": []
    },
    {
      "cell_type": "code",
      "source": [
        "physical_devices = tf.config.experimental.list_physical_devices('GPU')\n",
        "print(\"Num GPUs Available: \", len(physical_devices))\n",
        "tf.config.experimental.set_memory_growth(physical_devices[0], True)"
      ],
      "metadata": {
        "colab": {
          "base_uri": "https://localhost:8080/"
        },
        "id": "LR_WnN2KeHCV",
        "outputId": "d53cb587-43ea-414c-8a60-13b7f97c4438"
      },
      "execution_count": 10,
      "outputs": [
        {
          "output_type": "stream",
          "name": "stdout",
          "text": [
            "Num GPUs Available:  1\n"
          ]
        }
      ]
    },
    {
      "cell_type": "code",
      "source": [
        "model = Sequential([\n",
        "    Dense(units=16, input_shape=(1,), activation='relu'),\n",
        "    Dense(units=32, activation='relu'),\n",
        "    Dense(units=2, activation='softmax') # final layer: either patient experienced side effects, or he did not, hence 2 units\n",
        "])\n",
        "\n",
        "# Dense layer is a fully connected layer\n",
        "\n",
        "# model is an instance of a Sequential object\n",
        "# model is a linear stack of layers.\n",
        "# It accepts a list, and each element in the list should be a layer.\n",
        "# The first dense layer in this case is actually the second layer (but is the first hidden layer)\n",
        "# because Keras creates the input layer by default using the input sampled"
      ],
      "metadata": {
        "id": "tNx17Y3Vess2"
      },
      "execution_count": 11,
      "outputs": []
    },
    {
      "cell_type": "code",
      "source": [
        "model.summary()"
      ],
      "metadata": {
        "colab": {
          "base_uri": "https://localhost:8080/"
        },
        "id": "BA988qT5e-Yn",
        "outputId": "f5d61814-c18b-4989-e30c-912e2e3800f7"
      },
      "execution_count": 12,
      "outputs": [
        {
          "output_type": "stream",
          "name": "stdout",
          "text": [
            "Model: \"sequential\"\n",
            "_________________________________________________________________\n",
            " Layer (type)                Output Shape              Param #   \n",
            "=================================================================\n",
            " dense (Dense)               (None, 16)                32        \n",
            "                                                                 \n",
            " dense_1 (Dense)             (None, 32)                544       \n",
            "                                                                 \n",
            " dense_2 (Dense)             (None, 2)                 66        \n",
            "                                                                 \n",
            "=================================================================\n",
            "Total params: 642 (2.51 KB)\n",
            "Trainable params: 642 (2.51 KB)\n",
            "Non-trainable params: 0 (0.00 Byte)\n",
            "_________________________________________________________________\n"
          ]
        }
      ]
    },
    {
      "cell_type": "code",
      "source": [
        "# getting the model ready for training\n",
        "\n",
        "model.compile(optimizer=Adam(learning_rate=0.0001), loss='sparse_categorical_crossentropy', metrics=['accuracy'])"
      ],
      "metadata": {
        "id": "VFYhEHq5gKDU"
      },
      "execution_count": 13,
      "outputs": []
    },
    {
      "cell_type": "code",
      "source": [
        "model.fit(x=scaled_train_samples, y=train_labels, validation_split=0.1, batch_size=10, epochs=30, verbose=2)\n",
        "\n",
        "# x -> input data\n",
        "# y -> target data\n",
        "# validation_split -> Takes out a portion of the training set and converts it to the validation set {0 to 1}\n",
        "# batch_size -> how many samples are included in one batch to be passed & processed by the our Neural Network\n",
        "# epochs -> Note that an epoch is a single pass of all the data to the network, so in this case, the data will be passed 30 times to the NN\n",
        "# verbose -> Allows us to see o/p messages from the training, ranges from 0 to 2"
      ],
      "metadata": {
        "id": "hSr-65BlhFl4"
      },
      "execution_count": null,
      "outputs": []
    },
    {
      "cell_type": "markdown",
      "source": [
        "# Testing the Data"
      ],
      "metadata": {
        "id": "SA3-uKlcMkT4"
      }
    },
    {
      "cell_type": "code",
      "source": [
        "test_labels =  []\n",
        "test_samples = []\n",
        "\n",
        "for i in range(10):\n",
        "    # The 5% of younger individuals who did experience side effects\n",
        "    random_younger = randint(13,64)\n",
        "    test_samples.append(random_younger)\n",
        "    test_labels.append(1)\n",
        "\n",
        "    # The 5% of older individuals who did not experience side effects\n",
        "    random_older = randint(65,100)\n",
        "    test_samples.append(random_older)\n",
        "    test_labels.append(0)\n",
        "\n",
        "for i in range(200):\n",
        "    # The 95% of younger individuals who did not experience side effects\n",
        "    random_younger = randint(13,64)\n",
        "    test_samples.append(random_younger)\n",
        "    test_labels.append(0)\n",
        "\n",
        "    # The 95% of older individuals who did experience side effects\n",
        "    random_older = randint(65,100)\n",
        "    test_samples.append(random_older)\n",
        "    test_labels.append(1)\n",
        "\n",
        "test_labels = np.array(test_labels)\n",
        "test_samples = np.array(test_samples)\n",
        "test_labels, test_samples = shuffle(test_labels, test_samples)\n",
        "\n",
        "scaled_test_samples = scaler.fit_transform(test_samples.reshape(-1,1))"
      ],
      "metadata": {
        "id": "z6MzixgCMoBX"
      },
      "execution_count": 16,
      "outputs": []
    },
    {
      "cell_type": "markdown",
      "source": [
        "## Predictions"
      ],
      "metadata": {
        "id": "tqNaCzkLNvZm"
      }
    },
    {
      "cell_type": "code",
      "source": [
        "predictions = model.predict(x=scaled_test_samples, batch_size=10, verbose=0)\n",
        "\n",
        "# Quick thing to note here is that we did not pass in the labels here.\n",
        "# This is the nature of inference. This is because we make inferences once the model is deployed to production,\n",
        "# so we don't necessarily have the correct labels for the data"
      ],
      "metadata": {
        "id": "TQfeRISFNlqX"
      },
      "execution_count": 17,
      "outputs": []
    },
    {
      "cell_type": "code",
      "source": [
        "for i in predictions:\n",
        "  print(i)\n",
        "\n",
        "# O/P is in the form [a, b] which means that the patient has 'a' probability of not getting the side effects and 'b' of getting them\n",
        "# This is because earlier, we mapped \"not getting the side effects\" with index 0, and \"getting them\" with index 1"
      ],
      "metadata": {
        "id": "uFDwdwRgN4EG"
      },
      "execution_count": null,
      "outputs": []
    },
    {
      "cell_type": "code",
      "source": [
        "# Getting the index of the predicition with the highest probability\n",
        "\n",
        "rounded_predictions = np.argmax(predictions, axis=-1)\n",
        "\n",
        "for i in rounded_predictions:\n",
        "    print(i)"
      ],
      "metadata": {
        "id": "T8CqRStTN7_0"
      },
      "execution_count": null,
      "outputs": []
    },
    {
      "cell_type": "markdown",
      "source": [
        "### Generating a Confusion matrix"
      ],
      "metadata": {
        "id": "g0YSLgbYQOc-"
      }
    },
    {
      "cell_type": "markdown",
      "source": [
        "Because we created our own dataset, we have the correct labels for each sample. Hence, we can create a confusion matrix to visualize prediction results from a Neural Network during inference"
      ],
      "metadata": {
        "id": "-9RH22RSQetd"
      }
    },
    {
      "cell_type": "code",
      "source": [
        "from sklearn.metrics import confusion_matrix\n",
        "import itertools\n",
        "import matplotlib.pyplot as plt"
      ],
      "metadata": {
        "id": "0_eOkcBKPMZ_"
      },
      "execution_count": 20,
      "outputs": []
    },
    {
      "cell_type": "code",
      "source": [
        "cm = confusion_matrix(y_true=test_labels, y_pred=rounded_predictions)"
      ],
      "metadata": {
        "id": "uh9FFeigRddk"
      },
      "execution_count": 21,
      "outputs": []
    },
    {
      "cell_type": "code",
      "source": [
        "# This is a function that Scikit-learn has created to easily plot the confusion matrix\n",
        "\n",
        "def plot_confusion_matrix(cm, classes,\n",
        "                        normalize=False,\n",
        "                        title='Confusion matrix',\n",
        "                        cmap=plt.cm.Blues):\n",
        "    \"\"\"\n",
        "    This function prints and plots the confusion matrix.\n",
        "    Normalization can be applied by setting `normalize=True`.\n",
        "    \"\"\"\n",
        "    plt.imshow(cm, interpolation='nearest', cmap=cmap)\n",
        "    plt.title(title)\n",
        "    plt.colorbar()\n",
        "    tick_marks = np.arange(len(classes))\n",
        "    plt.xticks(tick_marks, classes, rotation=45)\n",
        "    plt.yticks(tick_marks, classes)\n",
        "\n",
        "    if normalize:\n",
        "        cm = cm.astype('float') / cm.sum(axis=1)[:, np.newaxis]\n",
        "        print(\"Normalized confusion matrix\")\n",
        "    else:\n",
        "        print('Confusion matrix, without normalization')\n",
        "\n",
        "    print(cm)\n",
        "\n",
        "    thresh = cm.max() / 2.\n",
        "    for i, j in itertools.product(range(cm.shape[0]), range(cm.shape[1])):\n",
        "        plt.text(j, i, cm[i, j],\n",
        "            horizontalalignment=\"center\",\n",
        "            color=\"white\" if cm[i, j] > thresh else \"black\")\n",
        "\n",
        "    plt.tight_layout()\n",
        "    plt.ylabel('True label')\n",
        "    plt.xlabel('Predicted label')"
      ],
      "metadata": {
        "id": "TvtUjsOyR0hw"
      },
      "execution_count": 23,
      "outputs": []
    },
    {
      "cell_type": "code",
      "source": [
        "cm_plot_labels = ['no_side_effects','had_side_effects']\n",
        "plot_confusion_matrix(cm=cm, classes=cm_plot_labels, title='Confusion Matrix')"
      ],
      "metadata": {
        "colab": {
          "base_uri": "https://localhost:8080/",
          "height": 560
        },
        "id": "ZZL1VK46R6gC",
        "outputId": "960fc2af-7f8b-4bee-9b89-37c5b87d0c2a"
      },
      "execution_count": 24,
      "outputs": [
        {
          "output_type": "stream",
          "name": "stdout",
          "text": [
            "Confusion matrix, without normalization\n",
            "[[194  16]\n",
            " [ 10 200]]\n"
          ]
        },
        {
          "output_type": "display_data",
          "data": {
            "text/plain": [
              "<Figure size 640x480 with 2 Axes>"
            ],
            "image/png": "[encoded data removed]"
          },
          "metadata": {}
        }
      ]
    },
    {
      "cell_type": "markdown",
      "source": [
        "# Saving and loading a Model\n",
        "\n",
        "*   Using model.save()\n",
        "*   Using model.to_json()"
      ],
      "metadata": {
        "id": "mkCu5Gr6T3_l"
      }
    },
    {
      "cell_type": "code",
      "source": [
        "# Using model.save()\n",
        "\n",
        "# This method of saving will save everything about the model – the architecture, the weights, the optimizer,\n",
        "# the state of the optimizer, the learning rate, the loss, etc.\n",
        "\n",
        "model.save('models/medical_trial_model.keras')\n",
        "\n",
        "from keras.models import load_model\n",
        "new_model = load_model('models/medical_trial_model.keras')\n",
        "\n",
        "new_model.summary()\n",
        "\n",
        "# We can also inspect attributes about the model, like the optimizer and loss by calling model.optimizer\n",
        "# and model.loss on the loaded model and compare the results to the previously saved model."
      ],
      "metadata": {
        "id": "ToW8wyPkSGmc"
      },
      "execution_count": null,
      "outputs": []
    },
    {
      "cell_type": "code",
      "source": [
        "# Using model.to_json()\n",
        "\n",
        "# This will not save the model weights, configurations, optimizer, loss or anything else. This only saves\n",
        "# the architecture of the model.\n",
        "\n",
        "json_string = model.to_json()\n",
        "\n",
        "from keras.models import model_from_json\n",
        "model_architecture = model_from_json(json_string)\n",
        "\n",
        "model_architecture.summary()"
      ],
      "metadata": {
        "id": "xRHMHdenUVsC"
      },
      "execution_count": null,
      "outputs": []
    },
    {
      "cell_type": "markdown",
      "source": [
        "We can also use this same approach to saving and loading the model architecture to and from a YAML string. To do so, we use the functions to_yaml() and model_from_yaml() in the same fashion as we called the json functions."
      ],
      "metadata": {
        "id": "qsfRdIUMVTjw"
      }
    },
    {
      "cell_type": "code",
      "source": [
        "# Using model.save_weights()\n",
        "\n",
        "# This function only saves the weights of the model.\n",
        "\n",
        "model.save_weights('models/my_model_weights.keras')\n",
        "\n",
        "# At a later point, we could then load the saved weights in to a new model, but the new model will\n",
        "# need to have the same architecture as the old model before the weights can be saved.\n",
        "\n",
        "model2 = Sequential([\n",
        "    Dense(units=16, input_shape=(1,), activation='relu'),\n",
        "    Dense(units=32, activation='relu'),\n",
        "    Dense(units=2, activation='softmax')\n",
        "])\n",
        "\n",
        "model2.load_weights('models/my_model_weights.keras')\n",
        "model2.get_weights()"
      ],
      "metadata": {
        "id": "8vydfD6jVmNd"
      },
      "execution_count": null,
      "outputs": []
    }
  ]
}